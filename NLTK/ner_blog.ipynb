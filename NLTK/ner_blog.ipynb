{
 "cells": [
  {
   "cell_type": "code",
   "execution_count": null,
   "metadata": {},
   "outputs": [],
   "source": []
  },
  {
   "cell_type": "code",
   "execution_count": 3,
   "metadata": {},
   "outputs": [],
   "source": [
    "from nltk import pos_tag\n",
    "from nltk.tokenize import wordpunct_tokenize\n",
    "from nltk import ne_chunk"
   ]
  },
  {
   "cell_type": "code",
   "execution_count": 7,
   "metadata": {},
   "outputs": [
    {
     "name": "stdout",
     "output_type": "stream",
     "text": [
      "(S\n",
      "  (GPE Tengo/NNP)\n",
      "  una/JJ\n",
      "  foto/NN\n",
      "  de/IN\n",
      "  mi/FW\n",
      "  perro/FW\n",
      "  en/FW\n",
      "  el/FW\n",
      "  iphone/NN\n",
      "  de/FW\n",
      "  Apple/NNP\n",
      "  ./.)\n"
     ]
    }
   ],
   "source": [
    "\n",
    "oracion1 = \"Tengo una foto de mi perro en el iphone de Apple.\"\n",
    "string_oracion1 = wordpunct_tokenize(oracion1)\n",
    "tagged_tok_or1 = pos_tag(string_oracion1)\n",
    "entities_or1 = ne_chunk(tagged_tok_or1)\n",
    "print(entities_or1)\n"
   ]
  }
 ],
 "metadata": {
  "kernelspec": {
   "display_name": "Python 3",
   "language": "python",
   "name": "python3"
  },
  "language_info": {
   "codemirror_mode": {
    "name": "ipython",
    "version": 3
   },
   "file_extension": ".py",
   "mimetype": "text/x-python",
   "name": "python",
   "nbconvert_exporter": "python",
   "pygments_lexer": "ipython3",
   "version": "3.11.9"
  }
 },
 "nbformat": 4,
 "nbformat_minor": 2
}
