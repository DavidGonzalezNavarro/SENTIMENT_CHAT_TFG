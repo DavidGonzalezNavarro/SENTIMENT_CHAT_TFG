{
 "cells": [
  {
   "cell_type": "markdown",
   "metadata": {},
   "source": [
    "Tokenizar strings en una lista de subgstrings"
   ]
  },
  {
   "cell_type": "code",
   "execution_count": 1,
   "metadata": {},
   "outputs": [
    {
     "name": "stdout",
     "output_type": "stream",
     "text": [
      "['¿Hola', 'que', 'tal', 'estas', '?', 'Bien', ',', '¿y', 'tú', '?']\n"
     ]
    }
   ],
   "source": [
    "from nltk.tokenize import word_tokenize  # type: ignore\n",
    "string = '¿Hola que tal estas?\\n Bien, ¿y tú?'\n",
    "string_token = word_tokenize(string)\n",
    "print(string_token)\n"
   ]
  },
  {
   "cell_type": "markdown",
   "metadata": {},
   "source": [
    "Proporciona un tokenizador más simple basado en expresiones regulares, que divide el texto en espacios en blanco y puntuación"
   ]
  },
  {
   "cell_type": "code",
   "execution_count": 2,
   "metadata": {},
   "outputs": [
    {
     "name": "stdout",
     "output_type": "stream",
     "text": [
      "['¿', 'Hola', 'que', 'tal', 'estas', '?', 'Bien', ',', '¿', 'y', 'tú', '?']\n"
     ]
    }
   ],
   "source": [
    "from nltk.tokenize import wordpunct_tokenize\n",
    "string_token = wordpunct_tokenize(string)\n",
    "print(string_token)\n"
   ]
  },
  {
   "cell_type": "markdown",
   "metadata": {},
   "source": [
    "Tokenizar a nivel de sentencias"
   ]
  },
  {
   "cell_type": "code",
   "execution_count": 3,
   "metadata": {},
   "outputs": [
    {
     "data": {
      "text/plain": [
       "['¿Hola que tal estas?', 'Bien, ¿y tú?']"
      ]
     },
     "execution_count": 3,
     "metadata": {},
     "output_type": "execute_result"
    }
   ],
   "source": [
    "from nltk.tokenize import sent_tokenize, word_tokenize\n",
    "#string = '¿Hola que tal estas?\\n Bien, ¿y tú?'\n",
    "sent_tokenize(string)"
   ]
  }
 ],
 "metadata": {
  "kernelspec": {
   "display_name": "Python 3",
   "language": "python",
   "name": "python3"
  },
  "language_info": {
   "codemirror_mode": {
    "name": "ipython",
    "version": 3
   },
   "file_extension": ".py",
   "mimetype": "text/x-python",
   "name": "python",
   "nbconvert_exporter": "python",
   "pygments_lexer": "ipython3",
   "version": "3.11.9"
  }
 },
 "nbformat": 4,
 "nbformat_minor": 2
}
