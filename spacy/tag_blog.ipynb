{
 "cells": [
  {
   "cell_type": "code",
   "execution_count": 1,
   "metadata": {},
   "outputs": [
    {
     "name": "stdout",
     "output_type": "stream",
     "text": [
      "Spacy Spacy PROPN PROPN nsubj Xxxxx True False\n",
      "es ser AUX AUX cop xx True True\n",
      "muy mucho ADV ADV advmod xxx True True\n",
      "pesado pesado ADJ ADJ ROOT xxxx True False\n",
      "poniendo poner VERB VERB advcl xxxx True False\n",
      "a a ADP ADP case x True True\n",
      "Apple Apple PROPN PROPN obj Xxxxx True False\n",
      "en en ADP ADP case xx True True\n",
      "los el DET DET det xxx True True\n",
      "ejemplos ejemplo NOUN NOUN obl xxxx True False\n"
     ]
    }
   ],
   "source": [
    "import spacy\n",
    "\n",
    "nlp = spacy.load(\"es_core_news_sm\")\n",
    "\n",
    "doc = nlp(\"Spacy es muy pesado poniendo a Apple en los ejemplos\")\n",
    "\n",
    "\n",
    "for token in doc:\n",
    "    print(token.text, token.lemma_, token.pos_, token.tag_, token.dep_,\n",
    "            token.shape_, token.is_alpha, token.is_stop)"
   ]
  }
 ],
 "metadata": {
  "kernelspec": {
   "display_name": "Python 3",
   "language": "python",
   "name": "python3"
  },
  "language_info": {
   "codemirror_mode": {
    "name": "ipython",
    "version": 3
   },
   "file_extension": ".py",
   "mimetype": "text/x-python",
   "name": "python",
   "nbconvert_exporter": "python",
   "pygments_lexer": "ipython3",
   "version": "3.11.9"
  }
 },
 "nbformat": 4,
 "nbformat_minor": 2
}
