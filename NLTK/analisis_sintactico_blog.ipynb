{
 "cells": [
  {
   "cell_type": "markdown",
   "metadata": {},
   "source": [
    "Importamos las librerias y las funciones que vamos a utilizar"
   ]
  },
  {
   "cell_type": "code",
   "execution_count": 36,
   "metadata": {},
   "outputs": [],
   "source": [
    "from nltk import CFG\n",
    "from nltk import ChartParser"
   ]
  },
  {
   "cell_type": "markdown",
   "metadata": {},
   "source": [
    "Hay que crear la estructura de la gramatica que vamos a utilizar, definimos los determinantes, nombres, verbos y etc.."
   ]
  },
  {
   "cell_type": "code",
   "execution_count": 37,
   "metadata": {},
   "outputs": [],
   "source": [
    "grammar_plantilla =  \"\"\"\n",
    "O -> SN SV\n",
    "SN -> Det N | Det N Adj | Det Adj N | NProp | SN SP\n",
    "SV -> V | V SN | V SP | V SN SP\n",
    "SP -> Prep SN\n",
    "Det -> 'el' | 'la' | 'un' | 'una' \n",
    "N -> 'niño' | 'niña' | 'manzana' | 'pera' | 'cuchillo'\n",
    "NProp -> 'Juan' | 'Ana' | 'Perico' \n",
    "Adj -> 'bonito' | 'pequeña' | 'verde'\n",
    "V -> 'come' | 'salta' | 'pela' | 'persigue' | 'mientras'\n",
    "Prep -> 'de' | 'con' | 'desde' | 'a'\n",
    "\"\"\"\n"
   ]
  },
  {
   "cell_type": "markdown",
   "metadata": {},
   "source": [
    "Parseamos la estrutctura de nuestra gramatica"
   ]
  },
  {
   "cell_type": "code",
   "execution_count": 38,
   "metadata": {},
   "outputs": [],
   "source": [
    "grammar = CFG.fromstring(grammar_plantilla)\n"
   ]
  },
  {
   "cell_type": "markdown",
   "metadata": {},
   "source": [
    "Creamos el analizador"
   ]
  },
  {
   "cell_type": "code",
   "execution_count": 39,
   "metadata": {},
   "outputs": [],
   "source": [
    "analizador = ChartParser(grammar)\n"
   ]
  },
  {
   "cell_type": "markdown",
   "metadata": {},
   "source": [
    "Analizamos la frase\n"
   ]
  },
  {
   "cell_type": "code",
   "execution_count": 43,
   "metadata": {},
   "outputs": [
    {
     "name": "stdout",
     "output_type": "stream",
     "text": [
      "(O (SN (Det el) (N niño)) (SV (V come) (SN (Det una) (N manzana))))\n"
     ]
    }
   ],
   "source": [
    "frase = \"el niño come una manzana\".split()\n",
    "for tree in analizador.parse(frase):\n",
    "    print(tree)"
   ]
  },
  {
   "cell_type": "markdown",
   "metadata": {},
   "source": [
    "Cuando un analizador reconoce todo el vocabulario de una oración de entrada pero es incapaz de analizarla, el método `parse()` no da error pero devuelve un objeto vacío. En este caso, la oración es agramatical según nuestra gramática."
   ]
  }
 ],
 "metadata": {
  "kernelspec": {
   "display_name": "Python 3",
   "language": "python",
   "name": "python3"
  },
  "language_info": {
   "codemirror_mode": {
    "name": "ipython",
    "version": 3
   },
   "file_extension": ".py",
   "mimetype": "text/x-python",
   "name": "python",
   "nbconvert_exporter": "python",
   "pygments_lexer": "ipython3",
   "version": "3.11.9"
  }
 },
 "nbformat": 4,
 "nbformat_minor": 2
}
